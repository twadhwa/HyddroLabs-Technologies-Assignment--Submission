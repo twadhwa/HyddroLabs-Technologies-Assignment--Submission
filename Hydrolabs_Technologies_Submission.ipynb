{
  "nbformat": 4,
  "nbformat_minor": 0,
  "metadata": {
    "colab": {
      "provenance": []
    },
    "kernelspec": {
      "name": "python3",
      "display_name": "Python 3"
    },
    "language_info": {
      "name": "python"
    }
  },
  "cells": [
    {
      "cell_type": "markdown",
      "source": [
        "Part  - 1 Data Structures and algorithms \n"
      ],
      "metadata": {
        "id": "6BvHMrreEJXN"
      }
    },
    {
      "cell_type": "code",
      "source": [
        "# Question 1 \n",
        "\n",
        "\"\"\"\n",
        "A stack is a data structure that follows the LIFO (Last in first out) principle \n",
        "\n",
        "So, here I created a class stack and a constructor that is __init__ function \n",
        "that initialize itself whenever an object of the class is called and it creates \n",
        "a list named items that can used as stack data structure. \n",
        "\n",
        "I have also created 4 methods for the stack data structure that are - \n",
        "1) push - To push an element in the stack \n",
        "2) pop - To pop out an element from the stack \n",
        "3) peek - To see the upper most element of the stack \n",
        "4) is_emplty - To check wheather the stack has element or not \n",
        "\n",
        "\"\"\" \n",
        "\n",
        "class Stack:\n",
        "    def __init__(self):\n",
        "        self.items = []\n",
        "\n",
        "    def push(self, item):\n",
        "        self.items.append(item)\n",
        "\n",
        "    def pop(self):\n",
        "        if self.is_empty():\n",
        "            raise Exception(\"Cannot pop from an empty stack\")\n",
        "        return self.items.pop()\n",
        "\n",
        "    def peek(self):\n",
        "        if self.is_empty():\n",
        "            raise Exception(\"Cannot peek an empty stack\")\n",
        "        return self.items[-1]\n",
        "\n",
        "    def is_empty(self):\n",
        "        return len(self.items) == 0\n",
        "\n",
        "s = Stack()\n",
        "# s is an object the class stack \n",
        "s.push(3)\n",
        "s.push(4)\n",
        "s.push(5)\n",
        "# We have used push function to enter element in the stack \n",
        "print(s.is_empty())\n",
        "# We have used is_empty function to check wheather their are elements in the stack \n",
        "print(s.peek())\n",
        "# We have used peek function to see the first element of the stack   \n",
        "print(s.pop())  \n",
        "print(s.pop())   \n",
        "print(s.pop())   \n",
        "# We have used pop function 3 times to remove all the elements of the stack \n",
        "print(s.is_empty())  "
      ],
      "metadata": {
        "colab": {
          "base_uri": "https://localhost:8080/"
        },
        "id": "f9Q2yfmIEH9l",
        "outputId": "01693ed6-4848-44d8-a66f-90637816e902"
      },
      "execution_count": 68,
      "outputs": [
        {
          "output_type": "stream",
          "name": "stdout",
          "text": [
            "False\n",
            "5\n",
            "5\n",
            "4\n",
            "3\n",
            "True\n"
          ]
        }
      ]
    },
    {
      "cell_type": "code",
      "source": [
        "# Question 2 Queue \n",
        "\n",
        "\"\"\"\n",
        "A Queue is a data structure that follows the FIFO (First in first out) principle \n",
        "\n",
        "So, here I created a class Queue and a constructor that is __init__ function \n",
        "that initialize itself whenever an object of the class is called and it creates \n",
        "a list named items that can used as queue data structure. \n",
        "\n",
        "I have also created 4 methods for the stack data structure that are - \n",
        "1) enqueue - To enter elements in the queue\n",
        "2) dequeue - To remove elements from the queue\n",
        "3) peek - To see the first element of the queue \n",
        "4) is_emplty - To check wheather the queue has element or not \n",
        "\n",
        "\"\"\" \n",
        "\n",
        "class Queue:\n",
        "    def __init__(self):\n",
        "        self.items = []\n",
        "\n",
        "    def enqueue(self, item):\n",
        "        self.items.append(item)\n",
        "\n",
        "    def dequeue(self):\n",
        "        if self.is_empty():\n",
        "            raise Exception(\"Cannot dequeue from an empty queue\")\n",
        "        return self.items.pop(0)\n",
        "\n",
        "    def peek(self):\n",
        "        if self.is_empty():\n",
        "            raise Exception(\"Cannot peek an empty queue\")\n",
        "        return self.items[0]\n",
        "\n",
        "    def is_empty(self):\n",
        "        return len(self.items) == 0\n",
        "\n",
        "q = Queue()\n",
        "q.enqueue(3)\n",
        "q.enqueue(4)\n",
        "q.enqueue(5)\n",
        "print(q.is_empty()) \n",
        "print(q.peek()) \n",
        "print(q.dequeue())   \n",
        "print(q.dequeue()) \n",
        "print(q.dequeue()) \n",
        "print(q.is_empty())  "
      ],
      "metadata": {
        "colab": {
          "base_uri": "https://localhost:8080/"
        },
        "id": "rz7vR18fGpKy",
        "outputId": "5f943346-9343-4186-aab4-7588f77514a8"
      },
      "execution_count": 69,
      "outputs": [
        {
          "output_type": "stream",
          "name": "stdout",
          "text": [
            "False\n",
            "3\n",
            "3\n",
            "4\n",
            "5\n",
            "True\n"
          ]
        }
      ]
    },
    {
      "cell_type": "code",
      "source": [
        "# Question 3 Binary Search Tree \n",
        "\n",
        "\"\"\"\n",
        "A binary search tree is a type of data structure that can store element in special \n",
        "herirachy that helps us to find element in the tree easily. We start searching for \n",
        "an element from the root node and if the element is smaller than the root node then \n",
        "we go to the left hand side of the tree and follow the same process and if the element is \n",
        "greater than the root node then we go to the right side of the node.\n",
        "\"\"\"\n",
        "class Node:\n",
        "    def __init__(self, data):\n",
        "        self.data = data\n",
        "        self.left = None\n",
        "        self.right = None\n",
        "    def __init__(self, data):\n",
        "        self.data = data\n",
        "        self.left = None\n",
        "        self.right = None\n",
        "\n",
        "    def delete(self, data, parent):\n",
        "        if data < self.data:\n",
        "            if self.left is not None:\n",
        "                return self.left.delete(data, self)\n",
        "            else:\n",
        "                return False\n",
        "        elif data > self.data:\n",
        "            if self.right is not None:\n",
        "                return self.right.delete(data, self)\n",
        "            else:\n",
        "                return False\n",
        "        else:\n",
        "            if self.left is None and self.right is None:\n",
        "                if self == parent.left:\n",
        "                    parent.left = None\n",
        "                else:\n",
        "                    parent.right = None\n",
        "                return True\n",
        "            elif self.left is None:\n",
        "                if self == parent.left:\n",
        "                    parent.left = self.right\n",
        "                else:\n",
        "                    parent.right = self.right\n",
        "                return True\n",
        "            elif self.right is None:\n",
        "                if self == parent.left:\n",
        "                    parent.left = self.left\n",
        "                else:\n",
        "                    parent.right = self.left\n",
        "                return True\n",
        "            else:\n",
        "                self.data = self.right.get_min()\n",
        "                self.right.delete(self.data, self)\n",
        "                return True\n",
        "\n",
        "    \n",
        "\n",
        "class BinarySearchTree:\n",
        "    def __init__(self):\n",
        "        self.root = None\n",
        "        self.count = 0\n",
        "\n",
        "    def insert(self, data):\n",
        "        if self.root is None:\n",
        "            self.root = Node(data)\n",
        "        else:\n",
        "            self._insert(data, self.root)\n",
        "        self.count += 1\n",
        "\n",
        "    def _insert(self, data, node):\n",
        "        if data < node.data:\n",
        "            if node.left is None:\n",
        "                node.left = Node(data)\n",
        "            else:\n",
        "                self._insert(data, node.left)\n",
        "        else:\n",
        "            if node.right is None:\n",
        "                node.right = Node(data)\n",
        "            else:\n",
        "                self._insert(data, node.right)\n",
        "\n",
        "    def delete(self, data):\n",
        "        if self.root is None:\n",
        "            return False\n",
        "        else:\n",
        "            if self.root.data == data:\n",
        "                temp = Node(None)\n",
        "                temp.left = self.root\n",
        "                success = self.root.delete(data, temp)\n",
        "                self.root = temp.left\n",
        "                if success:\n",
        "                    self.count -= 1\n",
        "                return success\n",
        "            else:\n",
        "                success = self.root.delete(data, None)\n",
        "                if success:\n",
        "                    self.count -= 1\n",
        "                return success\n",
        "\n",
        "    def search(self, data):\n",
        "        if self.root is None:\n",
        "            return False\n",
        "        else:\n",
        "            return self._search(data, self.root)\n",
        "\n",
        "    def _search(self, data, node):\n",
        "        if node is None:\n",
        "            return False\n",
        "        elif node.data == data:\n",
        "            return True\n",
        "        elif data < node.data:\n",
        "            return self._search(data, node.left)\n",
        "        else:\n",
        "            return self._search(data, node.right)\n",
        "\n",
        "    def size(self):\n",
        "        return self.count\n",
        "\n",
        "\n",
        "    \n",
        "\n",
        "bst = BinarySearchTree()\n",
        "bst.insert(50)\n",
        "bst.insert(30)\n",
        "bst.insert(20)\n",
        "bst.insert(40)\n",
        "bst.insert(70)\n",
        "bst.insert(60)\n",
        "bst.insert(80)\n",
        "\n",
        "print(bst.search(50)) \n",
        "print(bst.search(90)) \n",
        "print(bst.size())     \n",
        "\n",
        "bst.delete(20)\n",
        "print(bst.search(20)) \n",
        "print(bst.size())                 "
      ],
      "metadata": {
        "colab": {
          "base_uri": "https://localhost:8080/"
        },
        "id": "wBF-lkPCHfVC",
        "outputId": "5459e437-20ae-45c3-fea1-bb64382f1253"
      },
      "execution_count": 70,
      "outputs": [
        {
          "output_type": "stream",
          "name": "stdout",
          "text": [
            "True\n",
            "False\n",
            "7\n",
            "False\n",
            "6\n"
          ]
        }
      ]
    },
    {
      "cell_type": "markdown",
      "source": [
        "Part 2 - Python \n"
      ],
      "metadata": {
        "id": "WMFCdQx02Unj"
      }
    },
    {
      "cell_type": "code",
      "execution_count": 71,
      "metadata": {
        "colab": {
          "base_uri": "https://localhost:8080/"
        },
        "id": "mUJR6MeD2NPV",
        "outputId": "177c5df4-f5d0-4697-8a88-cb08df06a7dc"
      },
      "outputs": [
        {
          "output_type": "stream",
          "name": "stdout",
          "text": [
            "The 2 strings are anagram\n"
          ]
        }
      ],
      "source": [
        "# Question - 1 Anagram Checker \n",
        "\n",
        "\"\"\"\n",
        "2 Strings are anagrams if all the letters in the string are same in any order \n",
        "\n",
        "for example we have \n",
        "\n",
        "string_1 = silent \n",
        "string_2 = listen \n",
        "\n",
        "I\"ll solve it using the sorted in build function, this function creates a list \n",
        "of all the letters in any string in an alaphbetical order\n",
        "\n",
        "So, after using the sorted function I'll compare both list and if they are equal\n",
        "then the strings are anagram and if they are not equal then they are not an a\n",
        "anagram\n",
        "\n",
        "\n",
        "\"\"\" \n",
        "\n",
        "def anagram(str_1,str_2):\n",
        "  if (sorted(str_1) == sorted(str_2)):\n",
        "    print(\"The 2 strings are anagram\")\n",
        "  else :\n",
        "    print(\"The 2 strings are not anagram\")\n",
        "\n",
        "str_1 = \"anagram\"\n",
        "str_2 = \"nagaram\"\n",
        "\n",
        "anagram(str_1,str_2)\n",
        "        \n",
        "\n"
      ]
    },
    {
      "cell_type": "code",
      "source": [
        "\n",
        "# Question 2  FizzBuzz \n",
        "\"\"\"\n",
        "So, i just used simple if and else statement and for loop in python to check \n",
        "wheather a number is multiple of 3, 5 or both.  \n",
        "\"\"\" \n",
        "\n",
        "def fizzbuzz(n):\n",
        "  for i in range (1,n+1):\n",
        "    if i % 3 == 0 and i%5 == 0 : \n",
        "      print (\"FizzBuzz\")\n",
        "    elif i % 5 == 0 :\n",
        "      print (\"Buzz\")\n",
        "\n",
        "    elif i % 3 == 0 :\n",
        "      print (\"Fizz\")\n",
        "\n",
        "    else : \n",
        "      print (i)\n",
        "\n",
        "n = 60\n",
        "\n",
        "fizzbuzz(n)"
      ],
      "metadata": {
        "colab": {
          "base_uri": "https://localhost:8080/"
        },
        "id": "nzGdvFui4pXW",
        "outputId": "8ae98507-b1d1-4d78-dd1d-3bf05abbd1a4"
      },
      "execution_count": 72,
      "outputs": [
        {
          "output_type": "stream",
          "name": "stdout",
          "text": [
            "1\n",
            "2\n",
            "Fizz\n",
            "4\n",
            "Buzz\n",
            "Fizz\n",
            "7\n",
            "8\n",
            "Fizz\n",
            "Buzz\n",
            "11\n",
            "Fizz\n",
            "13\n",
            "14\n",
            "FizzBuzz\n",
            "16\n",
            "17\n",
            "Fizz\n",
            "19\n",
            "Buzz\n",
            "Fizz\n",
            "22\n",
            "23\n",
            "Fizz\n",
            "Buzz\n",
            "26\n",
            "Fizz\n",
            "28\n",
            "29\n",
            "FizzBuzz\n",
            "31\n",
            "32\n",
            "Fizz\n",
            "34\n",
            "Buzz\n",
            "Fizz\n",
            "37\n",
            "38\n",
            "Fizz\n",
            "Buzz\n",
            "41\n",
            "Fizz\n",
            "43\n",
            "44\n",
            "FizzBuzz\n",
            "46\n",
            "47\n",
            "Fizz\n",
            "49\n",
            "Buzz\n",
            "Fizz\n",
            "52\n",
            "53\n",
            "Fizz\n",
            "Buzz\n",
            "56\n",
            "Fizz\n",
            "58\n",
            "59\n",
            "FizzBuzz\n"
          ]
        }
      ]
    },
    {
      "cell_type": "code",
      "source": [
        "# Question 3 Fibonacci series \n",
        "\n",
        "\"\"\"\n",
        "The below code is simple fibonacci series code that uses recursion and adds the \n",
        "previous n-2 and n-1 terms of fibonacci series to give the nth term of the series\n",
        "\"\"\"\n",
        "\n",
        "def fibonacci_series(n):\n",
        "    if n <= 0:\n",
        "        print(\"The number enter is a negative number\")\n",
        "    elif n == 1:\n",
        "        return 0 ;\n",
        "    elif n == 2:\n",
        "        return 1 \n",
        "    else:\n",
        "        return fibonacci_series(n-1) + fibonacci_series(n-2)\n",
        "\n",
        "\n",
        "n = 10\n",
        "print (fibonacci_series(6))\n",
        "  "
      ],
      "metadata": {
        "colab": {
          "base_uri": "https://localhost:8080/"
        },
        "id": "FX-Uthau7Au1",
        "outputId": "15b5ca9d-3dc3-4cc4-fb98-194228221241"
      },
      "execution_count": 73,
      "outputs": [
        {
          "output_type": "stream",
          "name": "stdout",
          "text": [
            "5\n"
          ]
        }
      ]
    },
    {
      "cell_type": "code",
      "source": [],
      "metadata": {
        "id": "Q5D1--ON-746"
      },
      "execution_count": 73,
      "outputs": []
    }
  ]
}